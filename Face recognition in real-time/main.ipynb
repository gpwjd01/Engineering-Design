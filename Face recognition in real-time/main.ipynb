{
 "cells": [
  {
   "cell_type": "markdown",
   "metadata": {},
   "source": [
    "## 이미지의 얼굴 인식"
   ]
  },
  {
   "cell_type": "code",
   "execution_count": null,
   "metadata": {},
   "outputs": [],
   "source": [
    "# pip install opencv-python\n",
    "# pip install cmake\n",
    "# pip install face_recognition or pip\n",
    "import cv2\n",
    "import face_recognition\n",
    "\n",
    "# Messi 원본 인코딩\n",
    "img = cv2.imread(\"Messi1.webp\") # 이미지 불러오기\n",
    "rgb_img = cv2.cvtColor(img, cv2.COLOR_BGR2RGB) # bgr -> rgb 변환\n",
    "img_encoding = face_recognition.face_encodings(rgb_img)[0]\n",
    "\n",
    "# Elon Musk 원본 인코딩\n",
    "img2 = cv2.imread(\"images/Elon Musk.jpg\") # 이미지 불러오기\n",
    "rgb_img2 = cv2.cvtColor(img2, cv2.COLOR_BGR2RGB) # bgr -> rgb 변환\n",
    "img_encoding2 = face_recognition.face_encodings(rgb_img2)[0]\n",
    "\n",
    "# Jeff Bezoz 원본 인코딩\n",
    "img3 = cv2.imread(\"images/Jeff Bezoz.jpg\") # 이미지 불러오기\n",
    "rgb_img3 = cv2.cvtColor(img3, cv2.COLOR_BGR2RGB) # bgr -> rgb 변환\n",
    "img_encoding3 = face_recognition.face_encodings(rgb_img3)[0]\n",
    "\n",
    "# Messi 원본 인코딩\n",
    "img4 = cv2.imread(\"images/Messi.webp\") # 이미지 불러오기\n",
    "rgb_img4 = cv2.cvtColor(img4, cv2.COLOR_BGR2RGB) # bgr -> rgb 변환\n",
    "img_encoding4 = face_recognition.face_encodings(rgb_img4)[0]\n",
    "\n",
    "# Ryn Reynolds 원본 인코딩\n",
    "img5 = cv2.imread(\"images/Elon Musk.jpg\") # 이미지 불러오기\n",
    "rgb_img5 = cv2.cvtColor(img5, cv2.COLOR_BGR2RGB) # bgr -> rgb 변환\n",
    "img_encoding5 = face_recognition.face_encodings(rgb_img5)[0]\n",
    "\n",
    "# Sergio Canu 원본 인코딩\n",
    "img6 = cv2.imread(\"images/Elon Musk.jpg\") # 이미지 불러오기\n",
    "rgb_img6 = cv2.cvtColor(img6, cv2.COLOR_BGR2RGB) # bgr -> rgb 변환\n",
    "img_encoding6 = face_recognition.face_encodings(rgb_img6)[0]\n",
    "\n",
    "# comparision : 이미지 비교\n",
    "result = face_recognition.compare_faces([img_encoding],img_encoding2)\n",
    "print('Result: ', result) \n",
    "\n",
    "\n",
    "cv2.imshow(\"Img\", img) # 화면에 이미지를 보여줌, free size\n",
    "cv2.imshow(\"Img\", img2) # 화면에 이미지를 보여줌, free size\n",
    "cv2.waitKey(0) # 키 입력을 기다리는 대기 함수\n"
   ]
  },
  {
   "cell_type": "markdown",
   "metadata": {},
   "source": [
    "## 웹캠에서 실시간으로 얼굴 인식"
   ]
  },
  {
   "cell_type": "code",
   "execution_count": null,
   "metadata": {},
   "outputs": [],
   "source": [
    "import cv2\n",
    "from simple_facerec import SimpleFacerec # 얼굴 인식 및 카메라 감지\n",
    "\n",
    "# Encode faces from a folder\n",
    "sfr = SimpleFacerec()\n",
    "sfr.load_encoding_images(\"images/\") # 모든 이미지 인코딩\n",
    "\n",
    "#  Load Camera \n",
    "cap = cv2.VideoCapture(2)\n",
    "\n",
    "# 웹캠 스틤 가져와 반복\n",
    "while True:\n",
    "    ret, frame = cap.read() # 재생되는 동영상의 한 프레임씩 읽음\n",
    "    \n",
    "    # Detect faces : 웹캠의 프레임을 이를 통해 얼굴 식별\n",
    "    face_locations, face_names = sfr.detect_known_faces(frame)\n",
    "    #  사람의 이름과 움직임의 각 순간의 위치를 함께 배열\n",
    "    for face_loc, name in zip(face_locations, face_names):\n",
    "        y1, x2, y2, x1 = face_loc[0], face_loc[1], face_loc[2], face_loc[3]\n",
    "        \n",
    "        cv2.putText(frame, name, (x1, y1 - 10), cv2.FONT_HERSHEY_DUPLEX, 1, (0, 0, 200), 2)\n",
    "        cv2.rectangle(frame, (x1, y1), (x2, y2), (0, 0, 200), 4)    \n",
    "        \n",
    "    cv2.imshow(\"Frame\", frame) # 화면에 이미지 보여줌\n",
    "    \n",
    "    key = cv2.waitKey(1) # 1ms만큼 대기\n",
    "    if key == 27: # 키가 27인 경우 break\n",
    "        break\n",
    "\n",
    "\n",
    "cap.release() # cap 객체를 해제, 생성한 모든 윈도우 제거\n",
    "cv2.destroyAllWindows()"
   ]
  },
  {
   "cell_type": "code",
   "execution_count": null,
   "metadata": {},
   "outputs": [],
   "source": []
  }
 ],
 "metadata": {
  "kernelspec": {
   "display_name": "Python 3.9.7 64-bit",
   "language": "python",
   "name": "python3"
  },
  "language_info": {
   "codemirror_mode": {
    "name": "ipython",
    "version": 3
   },
   "file_extension": ".py",
   "mimetype": "text/x-python",
   "name": "python",
   "nbconvert_exporter": "python",
   "pygments_lexer": "ipython3",
   "version": "3.9.7"
  },
  "orig_nbformat": 4,
  "vscode": {
   "interpreter": {
    "hash": "aee8b7b246df8f9039afb4144a1f6fd8d2ca17a180786b69acc140d282b71a49"
   }
  }
 },
 "nbformat": 4,
 "nbformat_minor": 2
}
