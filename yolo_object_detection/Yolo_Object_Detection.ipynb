{
 "cells": [
  {
   "cell_type": "code",
   "execution_count": 1,
   "metadata": {},
   "outputs": [],
   "source": [
    "import cv2\n",
    "import numpy as np"
   ]
  },
  {
   "cell_type": "code",
   "execution_count": 2,
   "metadata": {},
   "outputs": [
    {
     "name": "stdout",
     "output_type": "stream",
     "text": [
      "['person', 'bicycle', 'car', 'motorbike', 'aeroplane', 'bus', 'train', 'truck', 'boat', 'traffic light', 'fire hydrant', 'stop sign', 'parking meter', 'bench', 'bird', 'cat', 'dog', 'horse', 'sheep', 'cow', 'elephant', 'bear', 'zebra', 'giraffe', 'backpack', 'umbrella', 'handbag', 'tie', 'suitcase', 'frisbee', 'skis', 'snowboard', 'sports ball', 'kite', 'baseball bat', 'baseball glove', 'skateboard', 'surfboard', 'tennis racket', 'bottle', 'wine glass', 'cup', 'fork', 'knife', 'spoon', 'bowl', 'banana', 'apple', 'sandwich', 'orange', 'broccoli', 'carrot', 'hot dog', 'pizza', 'donut', 'cake', 'chair', 'sofa', 'pottedplant', 'bed', 'diningtable', 'toilet', 'tvmonitor', 'laptop', 'mouse', 'remote', 'keyboard', 'cell phone', 'microwave', 'oven', 'toaster', 'sink', 'refrigerator', 'book', 'clock', 'vase', 'scissors', 'teddy bear', 'hair drier', 'toothbrush']\n"
     ]
    }
   ],
   "source": [
    "# Load Yolo\n",
    "net = cv2.dnn.readNet(\"yolov3.weights\", \"yolov3.cfg\")\n",
    "classes = []\n",
    "with open(\"coco.names\", \"r\") as f:\n",
    "    classes = [line.strip() for line in f.readlines()]\n",
    "    \n",
    "print(classes)"
   ]
  },
  {
   "cell_type": "code",
   "execution_count": 3,
   "metadata": {},
   "outputs": [],
   "source": [
    "layer_names = net.getLayerNames()\n",
    "# output_layers = [layer_names[i[0] - 1] for i in net.getUnconnectedOutLayers()] : 아래와 같이 수정\n",
    "output_layers = [layer_names[i - 1] for i in net.getUnconnectedOutLayers()]\n",
    "colors = np.random.uniform(0, 255, size=(len(classes), 3))"
   ]
  },
  {
   "cell_type": "code",
   "execution_count": 4,
   "metadata": {},
   "outputs": [
    {
     "name": "stdout",
     "output_type": "stream",
     "text": [
      "(array([[0.03618607, 0.05177579, 0.4194578 , ..., 0.        , 0.        ,\n",
      "        0.        ],\n",
      "       [0.04122787, 0.03220516, 0.30007514, ..., 0.        , 0.        ,\n",
      "        0.        ],\n",
      "       [0.04640169, 0.03623168, 0.8279954 , ..., 0.        , 0.        ,\n",
      "        0.        ],\n",
      "       ...,\n",
      "       [0.9572181 , 0.9464977 , 0.36237413, ..., 0.        , 0.        ,\n",
      "        0.        ],\n",
      "       [0.9554185 , 0.9569412 , 0.26252457, ..., 0.        , 0.        ,\n",
      "        0.        ],\n",
      "       [0.97289443, 0.95651275, 0.74964947, ..., 0.        , 0.        ,\n",
      "        0.        ]], dtype=float32), array([[0.01857791, 0.0224535 , 0.05290975, ..., 0.        , 0.        ,\n",
      "        0.        ],\n",
      "       [0.01395349, 0.02015744, 0.3209059 , ..., 0.        , 0.        ,\n",
      "        0.        ],\n",
      "       [0.02203617, 0.01769197, 0.07533062, ..., 0.        , 0.        ,\n",
      "        0.        ],\n",
      "       ...,\n",
      "       [0.97228557, 0.97164   , 0.04843732, ..., 0.        , 0.        ,\n",
      "        0.        ],\n",
      "       [0.9798887 , 0.9751355 , 0.30841032, ..., 0.        , 0.        ,\n",
      "        0.        ],\n",
      "       [0.9728332 , 0.98087937, 0.07947557, ..., 0.        , 0.        ,\n",
      "        0.        ]], dtype=float32), array([[0.01143983, 0.00578553, 0.0179604 , ..., 0.        , 0.        ,\n",
      "        0.        ],\n",
      "       [0.01005535, 0.01079769, 0.02139687, ..., 0.        , 0.        ,\n",
      "        0.        ],\n",
      "       [0.01027602, 0.00831587, 0.18811785, ..., 0.        , 0.        ,\n",
      "        0.        ],\n",
      "       ...,\n",
      "       [0.98970294, 0.98862463, 0.01541823, ..., 0.        , 0.        ,\n",
      "        0.        ],\n",
      "       [0.989356  , 0.98688734, 0.02135754, ..., 0.        , 0.        ,\n",
      "        0.        ],\n",
      "       [0.9879645 , 0.9906458 , 0.12455128, ..., 0.        , 0.        ,\n",
      "        0.        ]], dtype=float32))\n",
      "[ 2  5  8 12]\n"
     ]
    }
   ],
   "source": [
    "# Loading Image\n",
    "img = cv2.imread(\"room_ser.jpg\")\n",
    "img = cv2.resize(img, None, fx=0.4, fy=0.4)\n",
    "height, width, channels = img.shape # 이미지의 높이, 너비, 채널 받아오기\n",
    "\n",
    "# Detecing objects\n",
    "blob = cv2.dnn.blobFromImage(img, 0.00392, (416, 416), (0, 0, 0), True, crop=False) # 네트워크에 넣기 위한 전처리\n",
    "# for b in blob:\n",
    "#     for n, img_blob in enumerate(b):\n",
    "#         cv2.imshow(str(n), img_blob) # 0, 1, 2 \n",
    "        \n",
    "net.setInput(blob) # 전처리된 blob 네트워크에 입력\n",
    "outs = net.forward(output_layers) # 결과 받아오기\n",
    "print(outs)\n",
    "\n",
    "# Showing informations on the screen\n",
    "class_ids = []   # 각각의 데이터를 저장할 빈 리스트 생성\n",
    "confidences = [] # 각각의 데이터를 저장할 빈 리스트 생성\n",
    "boxes = []       # 각각의 데이터를 저장할 빈 리스트 생성\n",
    "for out in outs:\n",
    "    for detection in out:\n",
    "        scores = detection[5:]\n",
    "        class_id = np.argmax(scores) # classes와 연관\n",
    "        confidence = scores[class_id]\n",
    "        if confidence > 0.5:\n",
    "            # Object detected : 탐지된 객체의 너비, 높이 및 중앙 좌표값 찾기\n",
    "            center_x = int(detection[0] * width)\n",
    "            center_y = int(detection[1] * height)\n",
    "            w = int(detection[2] * width)\n",
    "            h = int(detection[3] * height)\n",
    "            \n",
    "            # cv2.circle(img, (center_x, center_y), 10, (0, 255, 0), 2)\n",
    "            # Rectangle coordinates: 객체의 사각형 테두리 중 좌상단 좌표값 찾기\n",
    "            x = int(center_x - w / 2)\n",
    "            y = int(center_y - h / 2)\n",
    "            # cv2.rectangle(img, (x, y), (x+w, y+h), (0, 255, 0), 2)\n",
    "            \n",
    "            boxes.append([x, y, w, h])\n",
    "            confidences.append(float(confidence))\n",
    "            class_ids.append(class_id)\n",
    "            \n",
    "# print(len(boxes)) # 13\n",
    "indexes = cv2.dnn.NMSBoxes(boxes, confidences, 0.5, 0.4)\n",
    "print(indexes)\n",
    "number_objects_detected = len(boxes)\n",
    "font = cv2.FONT_HERSHEY_PLAIN\n",
    "for i in range(len(boxes)):\n",
    "    if i in indexes:\n",
    "        x, y, w, h = boxes[i]\n",
    "        label = str(classes[class_ids[i]])\n",
    "        color = colors[i]\n",
    "        # print(label)\n",
    "        cv2.rectangle(img, (x, y), (x+w, y+h), color, 2)\n",
    "        cv2.putText(img, label, (x, y+30), font, 3, color, 3)\n",
    "    \n",
    "\n",
    "\n",
    "cv2.imshow(\"Image\", img)\n",
    "cv2.waitKey(0)\n",
    "cv2.destroyAllWindows()"
   ]
  },
  {
   "cell_type": "code",
   "execution_count": null,
   "metadata": {},
   "outputs": [],
   "source": []
  }
 ],
 "metadata": {
  "kernelspec": {
   "display_name": "Python 3.9.7 64-bit",
   "language": "python",
   "name": "python3"
  },
  "language_info": {
   "codemirror_mode": {
    "name": "ipython",
    "version": 3
   },
   "file_extension": ".py",
   "mimetype": "text/x-python",
   "name": "python",
   "nbconvert_exporter": "python",
   "pygments_lexer": "ipython3",
   "version": "3.9.7"
  },
  "orig_nbformat": 4,
  "vscode": {
   "interpreter": {
    "hash": "aee8b7b246df8f9039afb4144a1f6fd8d2ca17a180786b69acc140d282b71a49"
   }
  }
 },
 "nbformat": 4,
 "nbformat_minor": 2
}
